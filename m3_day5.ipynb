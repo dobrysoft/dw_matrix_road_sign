{
  "nbformat": 4,
  "nbformat_minor": 0,
  "metadata": {
    "colab": {
      "name": "m3_day5.ipynb",
      "provenance": [],
      "collapsed_sections": [],
      "mount_file_id": "1lq8sZCqLbKoNX5320wMVk1B8KIEA-t4J",
      "authorship_tag": "ABX9TyN+9Rzn1jbsmteYp9RjdX3w",
      "include_colab_link": true
    },
    "kernelspec": {
      "name": "python3",
      "display_name": "Python 3"
    },
    "accelerator": "GPU"
  },
  "cells": [
    {
      "cell_type": "markdown",
      "metadata": {
        "id": "view-in-github",
        "colab_type": "text"
      },
      "source": [
        "<a href=\"https://colab.research.google.com/github/dobrysoft/dw_matrix_road_sign/blob/master/m3_day5.ipynb\" target=\"_parent\"><img src=\"https://colab.research.google.com/assets/colab-badge.svg\" alt=\"Open In Colab\"/></a>"
      ]
    },
    {
      "cell_type": "code",
      "metadata": {
        "id": "wz8rJLxT6gHJ",
        "colab_type": "code",
        "colab": {
          "base_uri": "https://localhost:8080/",
          "height": 170
        },
        "outputId": "e6c2e02e-e11a-4b42-ed16-60a6478e2e3c"
      },
      "source": [
        "!pip install hyperopt"
      ],
      "execution_count": 1,
      "outputs": [
        {
          "output_type": "stream",
          "text": [
            "Requirement already satisfied: hyperopt in /usr/local/lib/python3.6/dist-packages (0.1.2)\n",
            "Requirement already satisfied: tqdm in /usr/local/lib/python3.6/dist-packages (from hyperopt) (4.38.0)\n",
            "Requirement already satisfied: scipy in /usr/local/lib/python3.6/dist-packages (from hyperopt) (1.4.1)\n",
            "Requirement already satisfied: six in /usr/local/lib/python3.6/dist-packages (from hyperopt) (1.12.0)\n",
            "Requirement already satisfied: future in /usr/local/lib/python3.6/dist-packages (from hyperopt) (0.16.0)\n",
            "Requirement already satisfied: pymongo in /usr/local/lib/python3.6/dist-packages (from hyperopt) (3.10.1)\n",
            "Requirement already satisfied: networkx in /usr/local/lib/python3.6/dist-packages (from hyperopt) (2.4)\n",
            "Requirement already satisfied: numpy in /usr/local/lib/python3.6/dist-packages (from hyperopt) (1.18.2)\n",
            "Requirement already satisfied: decorator>=4.3.0 in /usr/local/lib/python3.6/dist-packages (from networkx->hyperopt) (4.4.2)\n"
          ],
          "name": "stdout"
        }
      ]
    },
    {
      "cell_type": "code",
      "metadata": {
        "id": "xespZfKX7Ubl",
        "colab_type": "code",
        "colab": {}
      },
      "source": [
        "import pandas as pd\n",
        "import numpy as np\n",
        "import os\n",
        "import datetime\n",
        "\n",
        "import tensorflow as tf\n",
        "from tensorflow.keras.models import Sequential\n",
        "from tensorflow.keras.layers import Conv2D, MaxPool2D, Dense, Flatten, Dropout\n",
        "from tensorflow.keras.utils import to_categorical\n",
        "\n",
        "%load_ext tensorboard\n",
        "\n",
        "import matplotlib.pyplot as plt\n",
        "from skimage import color, exposure\n",
        "\n",
        "from sklearn.metrics import accuracy_score\n",
        "\n",
        "from hyperopt import hp, STATUS_OK, tpe, Trials, fmin"
      ],
      "execution_count": 0,
      "outputs": []
    },
    {
      "cell_type": "code",
      "metadata": {
        "id": "YhVcKD3c8c7O",
        "colab_type": "code",
        "colab": {
          "base_uri": "https://localhost:8080/",
          "height": 34
        },
        "outputId": "7ebc2f17-0559-4b85-97e5-8e80bcf08d04"
      },
      "source": [
        "cd '/content/drive/My Drive/Colab Notebooks/dw_matrix/matrix_three/dw_matrix_road_sign'"
      ],
      "execution_count": 2,
      "outputs": [
        {
          "output_type": "stream",
          "text": [
            "/content/drive/My Drive/Colab Notebooks/dw_matrix/matrix_three/dw_matrix_road_sign\n"
          ],
          "name": "stdout"
        }
      ]
    },
    {
      "cell_type": "code",
      "metadata": {
        "id": "077PUbos8l3O",
        "colab_type": "code",
        "colab": {}
      },
      "source": [
        "train = pd.read_pickle('data/train.p')\n",
        "test = pd.read_pickle('data/test.p')\n",
        "\n",
        "X_train, y_train = train['features'], train['labels']\n",
        "X_test, y_test = test['features'], test['labels']"
      ],
      "execution_count": 0,
      "outputs": []
    },
    {
      "cell_type": "code",
      "metadata": {
        "id": "SlBcokC78tcP",
        "colab_type": "code",
        "colab": {}
      },
      "source": [
        "if y_train.ndim == 1: y_train = to_categorical(y_train)\n",
        "if y_test.ndim == 1: y_test = to_categorical(y_test)\n",
        "\n",
        "input_shape = X_train.shape[1:]\n",
        "num_classes = y_train.shape[1]"
      ],
      "execution_count": 0,
      "outputs": []
    },
    {
      "cell_type": "code",
      "metadata": {
        "id": "SYixa1dL80--",
        "colab_type": "code",
        "colab": {}
      },
      "source": [
        "def train_model(model, X_train, y_train, params_fit={}):\n",
        "  model.compile(loss='categorical_crossentropy', optimizer='Adam', metrics=['accuracy'])\n",
        "\n",
        "  logdir = os.path.join(\"logs\", datetime.datetime.now().strftime(\"%Y%m%d-%H%M%S\"))\n",
        "  tensorboard_callback = tf.keras.callbacks.TensorBoard(logdir, histogram_freq=1)\n",
        "\n",
        "  model.fit(\n",
        "      X_train,\n",
        "      y_train,\n",
        "      batch_size=params_fit.get('batch_size', 128),\n",
        "      epochs=params_fit.get('epochs', 5),\n",
        "      verbose=params_fit.get('verbose', 1),\n",
        "      validation_data=params_fit.get('validation_data', (X_train, y_train)),\n",
        "      callbacks = [tensorboard_callback]\n",
        "  )\n",
        "  \n",
        "  return model\n",
        "\n",
        "def predict(model_trained, X_test, y_test, scoring=accuracy_score):\n",
        "\n",
        "  y_test_norm = np.argmax(y_test, axis=1)\n",
        "\n",
        "  y_pred_prob = model_trained.predict(X_test)\n",
        "  y_pred = np.argmax(y_pred_prob, axis=1)\n",
        "\n",
        "  return scoring(y_test_norm, y_pred)\n"
      ],
      "execution_count": 0,
      "outputs": []
    },
    {
      "cell_type": "code",
      "metadata": {
        "id": "sA3GfQKd9687",
        "colab_type": "code",
        "colab": {}
      },
      "source": [
        "def get_cnn_v5(input_shape, num_classes):\n",
        "  return Sequential([\n",
        "    Conv2D(filters=32, kernel_size=(3, 3), activation='relu', input_shape=input_shape),\n",
        "    Conv2D(filters=32, kernel_size=(3, 3), activation='relu', padding='same'),\n",
        "    MaxPool2D(),\n",
        "    Dropout(0.3),\n",
        "\n",
        "    Conv2D(filters=64, kernel_size=(3, 3), activation='relu', padding='same'),\n",
        "    Conv2D(filters=64, kernel_size=(3, 3), activation='relu'),\n",
        "    MaxPool2D(),\n",
        "    Dropout(0.3),\n",
        "\n",
        "    Conv2D(filters=64, kernel_size=(3, 3), activation='relu', padding='same'),\n",
        "    Conv2D(filters=64, kernel_size=(3, 3), activation='relu'),\n",
        "    MaxPool2D(),\n",
        "    Dropout(0.3),\n",
        "    \n",
        "    Flatten(),\n",
        "    \n",
        "    Dense(1024, activation='relu'),\n",
        "    Dropout(0.3),\n",
        "\n",
        "    Dense(1024, activation='relu'),\n",
        "    Dropout(0.3),\n",
        "\n",
        "    Dense(num_classes, activation='softmax'),\n",
        "  ])\n"
      ],
      "execution_count": 0,
      "outputs": []
    },
    {
      "cell_type": "code",
      "metadata": {
        "id": "3hwxXxwB_hw3",
        "colab_type": "code",
        "colab": {
          "base_uri": "https://localhost:8080/",
          "height": 204
        },
        "outputId": "a3945af2-d386-414b-8054-29e8a5cfb3b6"
      },
      "source": [
        "model = get_cnn_v5(input_shape, num_classes)\n",
        "model_trained = train_model(model, X_train, y_train)\n",
        "\n",
        "predict(model_trained, X_test, y_test)"
      ],
      "execution_count": 7,
      "outputs": [
        {
          "output_type": "stream",
          "text": [
            "Epoch 1/5\n",
            "272/272 [==============================] - 5s 19ms/step - loss: 2.5713 - accuracy: 0.3136 - val_loss: 0.9553 - val_accuracy: 0.7118\n",
            "Epoch 2/5\n",
            "272/272 [==============================] - 5s 18ms/step - loss: 0.8046 - accuracy: 0.7486 - val_loss: 0.2672 - val_accuracy: 0.9155\n",
            "Epoch 3/5\n",
            "272/272 [==============================] - 5s 18ms/step - loss: 0.4479 - accuracy: 0.8608 - val_loss: 0.1247 - val_accuracy: 0.9611\n",
            "Epoch 4/5\n",
            "272/272 [==============================] - 5s 17ms/step - loss: 0.2710 - accuracy: 0.9185 - val_loss: 0.0657 - val_accuracy: 0.9811\n",
            "Epoch 5/5\n",
            "272/272 [==============================] - 5s 17ms/step - loss: 0.2066 - accuracy: 0.9384 - val_loss: 0.0476 - val_accuracy: 0.9864\n"
          ],
          "name": "stdout"
        },
        {
          "output_type": "execute_result",
          "data": {
            "text/plain": [
              "0.9600907029478458"
            ]
          },
          "metadata": {
            "tags": []
          },
          "execution_count": 7
        }
      ]
    },
    {
      "cell_type": "code",
      "metadata": {
        "id": "WWiEgbDcQau7",
        "colab_type": "code",
        "colab": {}
      },
      "source": [
        "def get_model(params):\n",
        "  return Sequential([\n",
        "    Conv2D(filters=32, kernel_size=(3, 3), activation='relu', input_shape=input_shape),\n",
        "    Conv2D(filters=32, kernel_size=(3, 3), activation='relu', padding='same'),\n",
        "    MaxPool2D(),\n",
        "    Dropout(params['dropout_cnn_block_one']),\n",
        "\n",
        "    Conv2D(filters=64, kernel_size=(3, 3), activation='relu', padding='same'),\n",
        "    Conv2D(filters=64, kernel_size=(3, 3), activation='relu'),\n",
        "    MaxPool2D(),\n",
        "    Dropout(params['dropout_cnn_block_two']),\n",
        "\n",
        "    Conv2D(filters=128, kernel_size=(3, 3), activation='relu', padding='same'),\n",
        "    Conv2D(filters=128, kernel_size=(3, 3), activation='relu'),\n",
        "    MaxPool2D(),\n",
        "    Dropout(params['dropout_cnn_block_three']),\n",
        "    \n",
        "    Flatten(),\n",
        "    \n",
        "    Dense(1024, activation='relu'),\n",
        "    Dropout(params['dropout_dense_block_one']),\n",
        "\n",
        "    Dense(1024, activation='relu'),\n",
        "    Dropout(params['dropout_dense_block_two']),\n",
        "\n",
        "    Dense(num_classes, activation='softmax'),\n",
        "  ])"
      ],
      "execution_count": 0,
      "outputs": []
    },
    {
      "cell_type": "code",
      "metadata": {
        "id": "ZUTKzf5-GMS-",
        "colab_type": "code",
        "colab": {}
      },
      "source": [
        "def func_obj(params):\n",
        "  model = get_model(params)\n",
        "  model.compile(loss='categorical_crossentropy', optimizer='Adam', metrics=['accuracy'])\n",
        "\n",
        "  model.fit(\n",
        "      X_train,\n",
        "      y_train,\n",
        "      batch_size=int(params.get('batch_size', 128)),\n",
        "      epochs=5,\n",
        "      verbose=0,\n",
        "      \n",
        "  )\n",
        "\n",
        "  score = model.evaluate(X_test, y_test, verbose=0)\n",
        "  accuracy = score[1]\n",
        "  print(params, 'accuracy={}'.format(accuracy))\n",
        "  \n",
        "  return {'loss': -accuracy, 'status': STATUS_OK, 'model': model}"
      ],
      "execution_count": 0,
      "outputs": []
    },
    {
      "cell_type": "code",
      "metadata": {
        "id": "EUZruBKsMcWY",
        "colab_type": "code",
        "colab": {
          "base_uri": "https://localhost:8080/",
          "height": 1000
        },
        "outputId": "3c1b0518-9c96-4261-ee5b-fa837d1c11f4"
      },
      "source": [
        "space = {\n",
        "    'batch_size': hp.quniform('batch_size', 100, 200, 10),\n",
        "    'dropout_cnn_block_one': hp.uniform('dropout_cnn_block_one', 0.3, 0.5),\n",
        "    'dropout_cnn_block_two': hp.uniform('dropout_cnn_block_two', 0.3, 0.5),\n",
        "    'dropout_cnn_block_three': hp.uniform('dropout_cnn_block_three', 0.3, 0.5),\n",
        "\n",
        "    'dropout_dense_block_one': hp.uniform('dropout_dense_block_one', 0.3, 0.7),\n",
        "    'dropout_dense_block_two': hp.uniform('dropout_dense_block_two', 0.3, 0.7),\n",
        "}\n",
        "\n",
        "best = fmin(\n",
        "    func_obj,\n",
        "    space,\n",
        "    tpe.suggest,\n",
        "    30,\n",
        "    Trials()\n",
        ")"
      ],
      "execution_count": 17,
      "outputs": [
        {
          "output_type": "stream",
          "text": [
            "{'batch_size': 120.0, 'dropout_cnn_block_one': 0.4276100433187576, 'dropout_cnn_block_three': 0.4349851133828281, 'dropout_cnn_block_two': 0.45375679931926605, 'dropout_dense_block_one': 0.6151494292522063, 'dropout_dense_block_two': 0.5664012979399581}\n",
            "accuracy=0.9315192699432373\n",
            "{'batch_size': 120.0, 'dropout_cnn_block_one': 0.4263610158228942, 'dropout_cnn_block_three': 0.4071008643092448, 'dropout_cnn_block_two': 0.4680892797946289, 'dropout_dense_block_one': 0.45783312581883895, 'dropout_dense_block_two': 0.38333678810371247}\n",
            "accuracy=0.9496598839759827\n",
            "{'batch_size': 170.0, 'dropout_cnn_block_one': 0.3957941116597961, 'dropout_cnn_block_three': 0.3213632066466036, 'dropout_cnn_block_two': 0.3522195346535156, 'dropout_dense_block_one': 0.5091352130246393, 'dropout_dense_block_two': 0.5238246529688172}\n",
            "accuracy=0.9643990993499756\n",
            "{'batch_size': 170.0, 'dropout_cnn_block_one': 0.3394307176351755, 'dropout_cnn_block_three': 0.35951506414478734, 'dropout_cnn_block_two': 0.3063392376094927, 'dropout_dense_block_one': 0.5471725788929607, 'dropout_dense_block_two': 0.6238056980921782}\n",
            "accuracy=0.9496598839759827\n",
            "{'batch_size': 180.0, 'dropout_cnn_block_one': 0.4380822681391258, 'dropout_cnn_block_three': 0.3264051221706502, 'dropout_cnn_block_two': 0.4001533657954286, 'dropout_dense_block_one': 0.4971177099746623, 'dropout_dense_block_two': 0.5628125419411261}\n",
            "accuracy=0.8814058899879456\n",
            "{'batch_size': 120.0, 'dropout_cnn_block_one': 0.4212270130535778, 'dropout_cnn_block_three': 0.3641534738663632, 'dropout_cnn_block_two': 0.30872258659795065, 'dropout_dense_block_one': 0.5913989069762764, 'dropout_dense_block_two': 0.32877015999942016}\n",
            "accuracy=0.956916093826294\n",
            "{'batch_size': 150.0, 'dropout_cnn_block_one': 0.41649356979163726, 'dropout_cnn_block_three': 0.40510595987725434, 'dropout_cnn_block_two': 0.3183504118440959, 'dropout_dense_block_one': 0.5602304869995236, 'dropout_dense_block_two': 0.6215673439527517}\n",
            "accuracy=0.9179138541221619\n",
            "{'batch_size': 150.0, 'dropout_cnn_block_one': 0.46521163961392836, 'dropout_cnn_block_three': 0.3166707390592603, 'dropout_cnn_block_two': 0.4663201385663317, 'dropout_dense_block_one': 0.5284902095676125, 'dropout_dense_block_two': 0.40057297352375354}\n",
            "accuracy=0.918367326259613\n",
            "{'batch_size': 190.0, 'dropout_cnn_block_one': 0.3985680249516611, 'dropout_cnn_block_three': 0.4497993886247681, 'dropout_cnn_block_two': 0.3771441157970292, 'dropout_dense_block_one': 0.6727188230836478, 'dropout_dense_block_two': 0.4909459389067522}\n",
            "accuracy=0.8945578336715698\n",
            "{'batch_size': 180.0, 'dropout_cnn_block_one': 0.40453761584205833, 'dropout_cnn_block_three': 0.361025934275385, 'dropout_cnn_block_two': 0.4581565318532713, 'dropout_dense_block_one': 0.5138787899215366, 'dropout_dense_block_two': 0.43681734757730195}\n",
            "accuracy=0.9272108674049377\n",
            "{'batch_size': 160.0, 'dropout_cnn_block_one': 0.3066016377808291, 'dropout_cnn_block_three': 0.4749928632727427, 'dropout_cnn_block_two': 0.43033274535575816, 'dropout_dense_block_one': 0.5578743681996703, 'dropout_dense_block_two': 0.5605933704212274}\n",
            "accuracy=0.9174603223800659\n",
            "{'batch_size': 130.0, 'dropout_cnn_block_one': 0.3607936930420682, 'dropout_cnn_block_three': 0.3755082389872442, 'dropout_cnn_block_two': 0.3902160369970483, 'dropout_dense_block_one': 0.6093077370562474, 'dropout_dense_block_two': 0.45690081788495873}\n",
            "accuracy=0.9514739513397217\n",
            "{'batch_size': 130.0, 'dropout_cnn_block_one': 0.4746101860181913, 'dropout_cnn_block_three': 0.4246656300956207, 'dropout_cnn_block_two': 0.45005818740555087, 'dropout_dense_block_one': 0.5258749312449637, 'dropout_dense_block_two': 0.5375513905542674}\n",
            "accuracy=0.8188208341598511\n",
            "{'batch_size': 150.0, 'dropout_cnn_block_one': 0.4513161665629071, 'dropout_cnn_block_three': 0.4605004467575964, 'dropout_cnn_block_two': 0.46805030929119695, 'dropout_dense_block_one': 0.6654017632771272, 'dropout_dense_block_two': 0.34377442729303714}\n",
            "accuracy=0.8478457927703857\n",
            "{'batch_size': 130.0, 'dropout_cnn_block_one': 0.32400622141718655, 'dropout_cnn_block_three': 0.44983446617708267, 'dropout_cnn_block_two': 0.46105613887806396, 'dropout_dense_block_one': 0.4860914634236386, 'dropout_dense_block_two': 0.41431937449773837}\n",
            "accuracy=0.9455782175064087\n",
            "{'batch_size': 190.0, 'dropout_cnn_block_one': 0.4273515483871357, 'dropout_cnn_block_three': 0.3946279087498188, 'dropout_cnn_block_two': 0.48730849235295454, 'dropout_dense_block_one': 0.46808480787424195, 'dropout_dense_block_two': 0.47893769469910313}\n",
            "accuracy=0.9031745791435242\n",
            "{'batch_size': 150.0, 'dropout_cnn_block_one': 0.36522633646487324, 'dropout_cnn_block_three': 0.30796308698890595, 'dropout_cnn_block_two': 0.3160369637175129, 'dropout_dense_block_one': 0.6609384442734146, 'dropout_dense_block_two': 0.4381479623801622}\n",
            "accuracy=0.9607709646224976\n",
            "{'batch_size': 110.0, 'dropout_cnn_block_one': 0.3925876657268682, 'dropout_cnn_block_three': 0.351166902170065, 'dropout_cnn_block_two': 0.3934943148974367, 'dropout_dense_block_one': 0.5251985008739972, 'dropout_dense_block_two': 0.31565940915932017}\n",
            "accuracy=0.9555555582046509\n",
            "{'batch_size': 160.0, 'dropout_cnn_block_one': 0.4895333315172295, 'dropout_cnn_block_three': 0.4858953541563164, 'dropout_cnn_block_two': 0.3653257385316503, 'dropout_dense_block_one': 0.4144020448606106, 'dropout_dense_block_two': 0.3823223636725537}\n",
            "accuracy=0.9276643991470337\n",
            "{'batch_size': 110.0, 'dropout_cnn_block_one': 0.3774355516275218, 'dropout_cnn_block_three': 0.40526889611175315, 'dropout_cnn_block_two': 0.33879005318850886, 'dropout_dense_block_one': 0.4987103804121592, 'dropout_dense_block_two': 0.5743078038407323}\n",
            "accuracy=0.9346938729286194\n",
            "{'batch_size': 170.0, 'dropout_cnn_block_one': 0.3623766056483975, 'dropout_cnn_block_three': 0.3012224277820355, 'dropout_cnn_block_two': 0.34603645241699066, 'dropout_dense_block_one': 0.35090351869043435, 'dropout_dense_block_two': 0.5167333784047867}\n",
            "accuracy=0.958730161190033\n",
            "{'batch_size': 140.0, 'dropout_cnn_block_one': 0.33995180618992216, 'dropout_cnn_block_three': 0.3004111219498753, 'dropout_cnn_block_two': 0.32763729250421575, 'dropout_dense_block_one': 0.3212063610981569, 'dropout_dense_block_two': 0.6661884570103432}\n",
            "accuracy=0.9303854703903198\n",
            "{'batch_size': 160.0, 'dropout_cnn_block_one': 0.3775353987370519, 'dropout_cnn_block_three': 0.33649944960426126, 'dropout_cnn_block_two': 0.35479222417641204, 'dropout_dense_block_one': 0.3956029901655448, 'dropout_dense_block_two': 0.461523675323322}\n",
            "accuracy=0.9433106780052185\n",
            "{'batch_size': 200.0, 'dropout_cnn_block_one': 0.3548498998699054, 'dropout_cnn_block_three': 0.3121872610769323, 'dropout_cnn_block_two': 0.33176483027018033, 'dropout_dense_block_one': 0.694895473385138, 'dropout_dense_block_two': 0.6140765060467271}\n",
            "accuracy=0.9260770678520203\n",
            "{'batch_size': 140.0, 'dropout_cnn_block_one': 0.37567599886304665, 'dropout_cnn_block_three': 0.33555443571692867, 'dropout_cnn_block_two': 0.30141932357773377, 'dropout_dense_block_one': 0.429268041116893, 'dropout_dense_block_two': 0.5177824308236063}\n",
            "accuracy=0.956916093826294\n",
            "{'batch_size': 170.0, 'dropout_cnn_block_one': 0.3151288837695634, 'dropout_cnn_block_three': 0.3011269371146031, 'dropout_cnn_block_two': 0.3614746548283164, 'dropout_dense_block_one': 0.6421374532260037, 'dropout_dense_block_two': 0.3544707545748925}\n",
            "accuracy=0.9653061032295227\n",
            "{'batch_size': 170.0, 'dropout_cnn_block_one': 0.30324188737329405, 'dropout_cnn_block_three': 0.3828897934081885, 'dropout_cnn_block_two': 0.4097865346559441, 'dropout_dense_block_one': 0.6413811082103748, 'dropout_dense_block_two': 0.355792304591249}\n",
            "accuracy=0.9478458166122437\n",
            "{'batch_size': 200.0, 'dropout_cnn_block_one': 0.3191538538187451, 'dropout_cnn_block_three': 0.342252734846091, 'dropout_cnn_block_two': 0.3668062889105372, 'dropout_dense_block_one': 0.37194656595487546, 'dropout_dense_block_two': 0.6530947101513817}\n",
            "accuracy=0.9442176818847656\n",
            "{'batch_size': 180.0, 'dropout_cnn_block_one': 0.49652456174030934, 'dropout_cnn_block_three': 0.3221523148400956, 'dropout_cnn_block_two': 0.4187601264529025, 'dropout_dense_block_one': 0.5792601352584431, 'dropout_dense_block_two': 0.6984037271140804}\n",
            "accuracy=0.8666666746139526\n",
            "{'batch_size': 190.0, 'dropout_cnn_block_one': 0.3429274235218988, 'dropout_cnn_block_three': 0.30120064839368443, 'dropout_cnn_block_two': 0.3742330807816685, 'dropout_dense_block_one': 0.6376304557347809, 'dropout_dense_block_two': 0.30571966717088966}\n",
            "accuracy=0.9489796161651611\n",
            "100%|██████████| 30/30 [07:35<00:00, 15.17s/it, best loss: -0.9653061032295227]\n"
          ],
          "name": "stdout"
        }
      ]
    },
    {
      "cell_type": "code",
      "metadata": {
        "id": "DjDT85HfO-fp",
        "colab_type": "code",
        "colab": {}
      },
      "source": [
        ""
      ],
      "execution_count": 0,
      "outputs": []
    }
  ]
}